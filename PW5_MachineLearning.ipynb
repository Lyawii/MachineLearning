{
  "nbformat": 4,
  "nbformat_minor": 0,
  "metadata": {
    "colab": {
      "provenance": [],
      "mount_file_id": "1yU2XvaK6j-GQw_KkaifvgEtOJKIvwFuE",
      "authorship_tag": "ABX9TyNbAeR1ud+Vk8zj3g1V9aH4",
      "include_colab_link": true
    },
    "kernelspec": {
      "name": "python3",
      "display_name": "Python 3"
    },
    "language_info": {
      "name": "python"
    }
  },
  "cells": [
    {
      "cell_type": "markdown",
      "metadata": {
        "id": "view-in-github",
        "colab_type": "text"
      },
      "source": [
        "<a href=\"https://colab.research.google.com/github/Lyawii/MachineLearning/blob/main/PW5_MachineLearning.ipynb\" target=\"_parent\"><img src=\"https://colab.research.google.com/assets/colab-badge.svg\" alt=\"Open In Colab\"/></a>"
      ]
    },
    {
      "cell_type": "markdown",
      "source": [
        "# **PRATICAL WORK 5**\n",
        "\n"
      ],
      "metadata": {
        "id": "EXXM8awp1cPr"
      }
    },
    {
      "cell_type": "markdown",
      "source": [
        "#  1. Load data from MAT file"
      ],
      "metadata": {
        "id": "G6KQaUpd4dZa"
      }
    },
    {
      "cell_type": "code",
      "execution_count": null,
      "metadata": {
        "id": "XCuK8KlEz_-C"
      },
      "outputs": [],
      "source": [
        "import scipy.io as sio\n",
        "dataset = sio.loadmat(\"digitsData.mat\")\n",
        "X = dataset['X']\n",
        "Y = dataset['Y']\n",
        "Y = Y % 10 # Convert range from 1-10 into 0-9 (mod10)"
      ]
    },
    {
      "cell_type": "code",
      "source": [
        "# Perform scaling of features\n",
        "from sklearn.preprocessing import MinMaxScaler\n",
        "scaling = MinMaxScaler(feature_range=(-1,1)).fit(X)\n",
        "X = scaling.transform(X)"
      ],
      "metadata": {
        "id": "gVdFtPEx3ZZj"
      },
      "execution_count": null,
      "outputs": []
    },
    {
      "cell_type": "code",
      "source": [
        "# Dividing X, y into train and test data\n",
        "from sklearn.model_selection import train_test_split\n",
        "X_train, X_test, Y_train, Y_test = train_test_split(X, Y,\n",
        "test_size = 0.2, random_state = 0)"
      ],
      "metadata": {
        "id": "ScinBJID3t1D"
      },
      "execution_count": null,
      "outputs": []
    },
    {
      "cell_type": "code",
      "source": [
        "# Convert to categorical labels\n",
        "from keras.utils import to_categorical\n",
        "Y_train = to_categorical(Y_train)"
      ],
      "metadata": {
        "id": "VG2jFiSC4UzM"
      },
      "execution_count": null,
      "outputs": []
    },
    {
      "cell_type": "markdown",
      "source": [
        "# 2. Specifying model and optimizer parameters"
      ],
      "metadata": {
        "id": "tR00Fvz74W2U"
      }
    },
    {
      "cell_type": "code",
      "source": [
        "# ------------------------------------------------------------------\n",
        "# define the keras model\n",
        "# Neural Network Parameters\n",
        "input_layer_size = 400; # 20x20 Input Images of Digits\n",
        "hidden_layer_size = 25; # 25 hidden units\n",
        "num_labels = 10; # 10 labels, from 0 to 9 "
      ],
      "metadata": {
        "id": "uv9Bk1RM4hRD"
      },
      "execution_count": null,
      "outputs": []
    },
    {
      "cell_type": "code",
      "source": [
        "from keras.models import Sequential\n",
        "from keras.layers import Dense\n",
        "model = Sequential()"
      ],
      "metadata": {
        "id": "N0yPrtGr4teD"
      },
      "execution_count": null,
      "outputs": []
    },
    {
      "cell_type": "code",
      "source": [
        "# ============================================\n",
        "# TO DO: Add model here\n",
        "model.add(Dense(hidden_layer_size, input_dim=input_layer_size,\n",
        "activation='sigmoid'))\n",
        "model.add(Dense(num_labels, activation='sigmoid'))\n",
        "# ============================================"
      ],
      "metadata": {
        "id": "NTdhvVTB4vQr"
      },
      "execution_count": null,
      "outputs": []
    },
    {
      "cell_type": "code",
      "source": [
        "# ============================================\n",
        "# TO DO: Add optimizer here\n",
        "from keras.optimizers import SGD\n",
        "sgd = SGD(lr=0.005) # Learning Rate 0.005\n",
        "model.compile(loss='categorical_crossentropy', optimizer=sgd,\n",
        "metrics=['accuracy'])\n",
        "# ============================================"
      ],
      "metadata": {
        "id": "Brr-WrPy4y8r"
      },
      "execution_count": null,
      "outputs": []
    },
    {
      "cell_type": "code",
      "source": [
        "history = model.fit(X_train, Y_train, epochs=100,\n",
        "batch_size=4000, verbose=1)\n"
      ],
      "metadata": {
        "id": "TRpN-PKa58y7"
      },
      "execution_count": null,
      "outputs": []
    },
    {
      "cell_type": "markdown",
      "source": [
        "# 3. Evaluation of the accuracy and visualization of the cost function\n"
      ],
      "metadata": {
        "id": "TDUT_5Hb6D7j"
      }
    },
    {
      "cell_type": "code",
      "source": [
        "# ============================================\n",
        "# TO DO: Add prediction here\n",
        "import numpy as np\n",
        "from sklearn.metrics import accuracy_score\n",
        "Y_pred = np.argmax(model.predict(X_test),axis=-1)\n",
        "accuracy = accuracy_score(Y_test, Y_pred)\n",
        "print('Accuracy: %.2f' % accuracy)\n",
        "# ==========================================="
      ],
      "metadata": {
        "id": "3u5qk-Lc6HWb"
      },
      "execution_count": null,
      "outputs": []
    },
    {
      "cell_type": "code",
      "source": [
        "from matplotlib.pyplot import figure\n",
        "figure(num=None, figsize=(15, 6), dpi=300, facecolor='w',\n",
        "edgecolor='k')\n",
        "import matplotlib.pyplot as plt\n",
        "plt.plot(history.history['loss'])\n",
        "plt.xlabel('Iteration')\n",
        "plt.ylabel('Cost Function')\n",
        "plt.grid()\n",
        "plt.show()"
      ],
      "metadata": {
        "id": "QxcJnfXW6Qqr"
      },
      "execution_count": null,
      "outputs": []
    },
    {
      "cell_type": "code",
      "source": [
        "history = model.fit(X_train, Y_train, epochs=500,\n",
        "batch_size=4000, verbose=1)\n",
        "\n",
        "Y_pred = np.argmax(model.predict(X_test),axis=-1)\n",
        "accuracy = accuracy_score(Y_test, Y_pred)\n",
        "print('Accuracy: %.2f' % accuracy)\n",
        "\n",
        "figure(num=None, figsize=(15, 6), dpi=300, facecolor='w',\n",
        "edgecolor='k')\n",
        "\n",
        "plt.plot(history.history['loss'])\n",
        "plt.xlabel('Iteration')\n",
        "plt.ylabel('Cost Function')\n",
        "plt.grid()\n",
        "plt.show()"
      ],
      "metadata": {
        "id": "i0u_-Y5F68gc"
      },
      "execution_count": null,
      "outputs": []
    },
    {
      "cell_type": "markdown",
      "source": [
        "# 4. Optimizing model parameters"
      ],
      "metadata": {
        "id": "qlU3B0kJ7kL0"
      }
    },
    {
      "cell_type": "code",
      "source": [
        "sgd = SGD(lr=0.05) # Learning Rate 0.05\n",
        "model.compile(loss='categorical_crossentropy', optimizer=sgd,\n",
        "metrics=['accuracy'])\n",
        "\n",
        "history = model.fit(X_train, Y_train, epochs=100,\n",
        "batch_size=40, verbose=1)\n",
        "\n",
        "Y_pred = np.argmax(model.predict(X_test),axis=-1)\n",
        "accuracy = accuracy_score(Y_test, Y_pred)\n",
        "print('Accuracy: %.2f' % accuracy)\n",
        "\n",
        "figure(num=None, figsize=(15, 6), dpi=300, facecolor='w',\n",
        "edgecolor='k')\n",
        "\n",
        "plt.plot(history.history['loss'])\n",
        "plt.xlabel('Iteration')\n",
        "plt.ylabel('Cost Function')\n",
        "plt.grid()\n",
        "plt.show()"
      ],
      "metadata": {
        "id": "4d3Hgnfi7mQM"
      },
      "execution_count": null,
      "outputs": []
    },
    {
      "cell_type": "markdown",
      "source": [
        "# 5. Neural network with one hidden layer\n"
      ],
      "metadata": {
        "id": "_Y-sfppc8GSL"
      }
    },
    {
      "cell_type": "code",
      "source": [
        "# ============================================\n",
        "# TO DO: Add optimizer here\n",
        "from keras.optimizers import RMSprop\n",
        "rmsprop = RMSprop(lr=0.005) # Learning Rate 0.005\n",
        "model.compile(loss='categorical_crossentropy',\n",
        "optimizer=rmsprop, metrics=['accuracy'])\n",
        "# ============================================\n",
        "history = model.fit(X_train, Y_train, epochs=100,\n",
        "batch_size=400, verbose=1)\n",
        "\n",
        "Y_pred = np.argmax(model.predict(X_test),axis=-1)\n",
        "accuracy = accuracy_score(Y_test, Y_pred)\n",
        "print('Accuracy: %.2f' % accuracy)\n",
        "\n",
        "figure(num=None, figsize=(15, 6), dpi=300, facecolor='w',\n",
        "edgecolor='k')\n",
        "\n",
        "plt.plot(history.history['loss'])\n",
        "plt.xlabel('Iteration')\n",
        "plt.ylabel('Cost Function')\n",
        "plt.grid()\n",
        "plt.show()"
      ],
      "metadata": {
        "id": "UkGv10V38EoE"
      },
      "execution_count": null,
      "outputs": []
    },
    {
      "cell_type": "markdown",
      "source": [
        "# 6. Dziļais Neironu Tīkls (Deep Neural Network)\n"
      ],
      "metadata": {
        "id": "QG3phd8w8qGD"
      }
    },
    {
      "cell_type": "code",
      "source": [
        "# ============================================\n",
        "# TO DO: Add model here\n",
        "from keras.models import Sequential\n",
        "from keras.layers import Dense\n",
        "model = Sequential()\n",
        "model.add(Dense(25*hidden_layer_size,\n",
        "input_dim=input_layer_size, activation='relu'))\n",
        "model.add(Dense(25*hidden_layer_size, activation='relu'))\n",
        "model.add(Dense(num_labels, activation='softmax'))\n",
        "# ============================================"
      ],
      "metadata": {
        "id": "k-b7kA0t8ug9"
      },
      "execution_count": null,
      "outputs": []
    },
    {
      "cell_type": "code",
      "source": [
        "# ============================================\n",
        "# TO DO: Add optimizer here\n",
        "from keras.optimizers import SGD\n",
        "rmsprop = RMSprop(lr=0.0005) # Learning Rate 0.0005\n",
        "model.compile(loss='categorical_crossentropy',\n",
        "optimizer=rmsprop, metrics=['accuracy'])\n",
        "# ============================================\n",
        "history = model.fit(X_train, Y_train, epochs=100,\n",
        "batch_size=400, verbose=1)\n",
        "\n",
        "Y_pred = np.argmax(model.predict(X_test),axis=-1)\n",
        "accuracy = accuracy_score(Y_test, Y_pred)\n",
        "print('Accuracy: %.2f' % accuracy)\n",
        "\n",
        "figure(num=None, figsize=(15, 6), dpi=300, facecolor='w',\n",
        "edgecolor='k')\n",
        "\n",
        "plt.plot(history.history['loss'])\n",
        "plt.xlabel('Iteration')\n",
        "plt.ylabel('Cost Function')\n",
        "plt.grid()\n",
        "plt.show()"
      ],
      "metadata": {
        "id": "4gH5TLqd8xdz"
      },
      "execution_count": null,
      "outputs": []
    },
    {
      "cell_type": "code",
      "source": [
        "rmsprop = RMSprop(lr=0.0005)\n",
        "model.compile(loss='categorical_crossentropy',\n",
        "optimizer=rmsprop, metrics=['accuracy'])\n",
        "\n",
        "history = model.fit(X_train, Y_train, epochs=200,\n",
        "batch_size=40, verbose=1)\n",
        "\n",
        "Y_pred = np.argmax(model.predict(X_test),axis=-1)\n",
        "accuracy = accuracy_score(Y_test, Y_pred)\n",
        "print('Accuracy: %.2f' % accuracy)\n",
        "\n",
        "figure(num=None, figsize=(15, 6), dpi=300, facecolor='w',\n",
        "edgecolor='k')\n",
        "\n",
        "plt.plot(history.history['loss'])\n",
        "plt.xlabel('Iteration')\n",
        "plt.ylabel('Cost Function')\n",
        "plt.grid()\n",
        "plt.show()"
      ],
      "metadata": {
        "id": "eZ9GhwIr_ypt"
      },
      "execution_count": null,
      "outputs": []
    },
    {
      "cell_type": "markdown",
      "source": [
        "**END PRATICAL WORK**"
      ],
      "metadata": {
        "id": "kerbQJtpEhet"
      }
    }
  ]
}